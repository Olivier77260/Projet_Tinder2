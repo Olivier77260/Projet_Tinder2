{
 "cells": [
  {
   "cell_type": "code",
   "execution_count": null,
   "metadata": {},
   "outputs": [],
   "source": [
    "import pandas as pd, geopy,certifi,ssl\n",
    "from geopy.geocoders import Nominatim\n",
    "\n",
    "# Code qui a servit à la génération d'un fichier csv avec les coordonnées GPS des villes afin de pouvoir tracer la carte. Ce code a tourné environ 5 minutes pour générer le fichier\n",
    "\n",
    "df = pd.read_csv(\"Speed_Dating_Data.csv\", encoding=\"cp1252\")\n",
    "adresseA = df['from'].value_counts()\n",
    "\n",
    "ctx = ssl.create_default_context(cafile=certifi.where())\n",
    "geopy.geocoders.options.default_ssl_context = ctx\n",
    "\n",
    "geolocator = Nominatim(user_agent=\"geocodage\")\n",
    "\n",
    "adresse = adresseA.index\n",
    "adresse_list = []\n",
    "count_list = []\n",
    "longitude_list = []\n",
    "latitude_list = []\n",
    "for x in adresse:\n",
    "    try:\n",
    "        longitude = geolocator.geocode(x).longitude\n",
    "        latitude = geolocator.geocode(x).latitude\n",
    "        total = adresseA[adresseA.index==x][0]\n",
    "        adresse_list.append(x)\n",
    "        longitude_list.append(longitude)\n",
    "        latitude_list.append(latitude)\n",
    "        count_list.append(total)\n",
    "    except:\n",
    "        print('Adresse non localisée : '+x)\n",
    "\n",
    "output = pd.DataFrame({'adresse':adresse_list, 'longitude':longitude_list, 'latitude':latitude_list, 'total':count_list})\n",
    "\n",
    "output.to_csv(rf'adresses2.csv', index=False, sep=';', encoding='utf-8')"
   ]
  }
 ],
 "metadata": {
  "kernelspec": {
   "display_name": ".venv",
   "language": "python",
   "name": "python3"
  },
  "language_info": {
   "codemirror_mode": {
    "name": "ipython",
    "version": 3
   },
   "file_extension": ".py",
   "mimetype": "text/x-python",
   "name": "python",
   "nbconvert_exporter": "python",
   "pygments_lexer": "ipython3",
   "version": "3.12.2"
  }
 },
 "nbformat": 4,
 "nbformat_minor": 2
}
